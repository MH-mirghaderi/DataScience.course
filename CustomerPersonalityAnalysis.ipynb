{
  "cells": [
    {
      "cell_type": "markdown",
      "metadata": {
        "id": "view-in-github",
        "colab_type": "text"
      },
      "source": [
        "<a href=\"https://colab.research.google.com/github/MH-mirghaderi/DataScience.course/blob/main/CustomerPersonalityAnalysis.ipynb\" target=\"_parent\"><img src=\"https://colab.research.google.com/assets/colab-badge.svg\" alt=\"Open In Colab\"/></a>"
      ]
    },
    {
      "cell_type": "markdown",
      "id": "e2162b30",
      "metadata": {
        "id": "e2162b30"
      },
      "source": [
        "# Customer Personality Analysis\n",
        "The goal of this exercise is to analyze a customer personality dataset containing demo\u0002graphic information, spending habits, promotional responses, and purchasing behaviors.\n",
        "You will conduct hypothesis tests to uncover insights about customer behaviors and char\u0002acteristics."
      ]
    },
    {
      "cell_type": "code",
      "execution_count": null,
      "id": "f09c1e16",
      "metadata": {
        "id": "f09c1e16"
      },
      "outputs": [],
      "source": [
        "import pandas as pd\n",
        "import numpy as np\n",
        "import scipy.stats as stats\n",
        "\n",
        "# Load the dataset\n",
        "df = pd.read_csv(\"marketing_campaign.csv\", sep='\\t')\n",
        "\n",
        "# Drop NA for Income\n",
        "df = df.dropna(subset=['Income'])"
      ]
    },
    {
      "cell_type": "markdown",
      "id": "a34d2abe",
      "metadata": {
        "id": "a34d2abe"
      },
      "source": [
        "##1.Do customers from different education levels have different income levels?"
      ]
    },
    {
      "cell_type": "code",
      "execution_count": null,
      "id": "d02f6e54",
      "metadata": {
        "id": "d02f6e54"
      },
      "outputs": [],
      "source": [
        "edu_income_groups = [group['Income'] for name, group in df.groupby('Education')]\n",
        "stat, p = stats.kruskal(*edu_income_groups)\n",
        "print(\"Kruskal-Wallis Statistic:\", stat)\n",
        "print(\"P-value:\", p)"
      ]
    },
    {
      "cell_type": "markdown",
      "source": [
        "###Result\n",
        "There is a statistically significant difference between customers' education level and their income."
      ],
      "metadata": {
        "id": "W9QOpxDvMmxX"
      },
      "id": "W9QOpxDvMmxX"
    },
    {
      "cell_type": "markdown",
      "id": "3771309d",
      "metadata": {
        "id": "3771309d"
      },
      "source": [
        "## 2.Does the marketing campaign influence spending behavior?"
      ]
    },
    {
      "cell_type": "code",
      "execution_count": null,
      "id": "5c27e85c",
      "metadata": {
        "id": "5c27e85c"
      },
      "outputs": [],
      "source": [
        "df['TotalSpend'] = df[['MntWines', 'MntFruits', 'MntMeatProducts', 'MntFishProducts', 'MntSweetProducts', 'MntGoldProds']].sum(axis=1)\n",
        "group1 = df[df['Response'] == 1]['TotalSpend']\n",
        "group0 = df[df['Response'] == 0]['TotalSpend']\n",
        "stat, p = stats.mannwhitneyu(group1, group0, alternative='two-sided')\n",
        "print(\"Mann-Whitney U Statistic:\", stat)\n",
        "print(\"P-value:\", p)"
      ]
    },
    {
      "cell_type": "markdown",
      "source": [
        "###Result\n",
        "Customers who responded positively to the campaign have significantly different spending behavior than others."
      ],
      "metadata": {
        "id": "thYz3lBfOH6Q"
      },
      "id": "thYz3lBfOH6Q"
    },
    {
      "cell_type": "markdown",
      "id": "00c17886",
      "metadata": {
        "id": "00c17886"
      },
      "source": [
        "## 3.Do customers with children spend differently than those without?"
      ]
    },
    {
      "cell_type": "code",
      "execution_count": null,
      "id": "aa7926ed",
      "metadata": {
        "id": "aa7926ed"
      },
      "outputs": [],
      "source": [
        "df['HasChild'] = df['Kidhome'] + df['Teenhome']\n",
        "child_group = df[df['HasChild'] > 0]['TotalSpend']\n",
        "no_child_group = df[df['HasChild'] == 0]['TotalSpend']\n",
        "stat, p = stats.mannwhitneyu(child_group, no_child_group)\n",
        "print(\"Mann-Whitney U Statistic (Children vs No Children):\", stat)\n",
        "print(\"P-value:\", p)"
      ]
    },
    {
      "cell_type": "markdown",
      "source": [
        "###Result\n",
        "Having children significantly makes a difference in customers' spending patterns."
      ],
      "metadata": {
        "id": "0t5cfI90XTHE"
      },
      "id": "0t5cfI90XTHE"
    },
    {
      "cell_type": "markdown",
      "id": "3bee1b07",
      "metadata": {
        "id": "3bee1b07"
      },
      "source": [
        "## 4.Is there a significant difference in spending on different product categories?"
      ]
    },
    {
      "cell_type": "code",
      "execution_count": null,
      "id": "f0ea3574",
      "metadata": {
        "id": "f0ea3574"
      },
      "outputs": [],
      "source": [
        "data = df[['MntWines', 'MntFruits', 'MntMeatProducts', 'MntFishProducts', 'MntSweetProducts', 'MntGoldProds']].head(100)\n",
        "stat, p = stats.friedmanchisquare(*[data[col] for col in data.columns])\n",
        "print(\"Friedman Test Statistic:\", stat)\n",
        "print(\"P-value:\", p)"
      ]
    },
    {
      "cell_type": "markdown",
      "source": [
        "###Result\n",
        "Customers have different spending preferences across product categories (e.g., they spend more on wine or meat)."
      ],
      "metadata": {
        "id": "Ra7-6dMPXlxG"
      },
      "id": "Ra7-6dMPXlxG"
    },
    {
      "cell_type": "markdown",
      "id": "a405b212",
      "metadata": {
        "id": "a405b212"
      },
      "source": [
        "##5.Is there a relationship between customer education level and acceptance of promotional campaigns?"
      ]
    },
    {
      "cell_type": "code",
      "execution_count": null,
      "id": "6f3c06b2",
      "metadata": {
        "id": "6f3c06b2"
      },
      "outputs": [],
      "source": [
        "df['AcceptedAnyCampaign'] = df[['AcceptedCmp1', 'AcceptedCmp2', 'AcceptedCmp3', 'AcceptedCmp4', 'AcceptedCmp5']].sum(axis=1).apply(lambda x: 1 if x > 0 else 0)\n",
        "edu_campaign_table = pd.crosstab(df['Education'], df['AcceptedAnyCampaign'])\n",
        "stat, p, _, _ = stats.chi2_contingency(edu_campaign_table)\n",
        "print(\"Chi-Square Statistic:\", stat)\n",
        "print(\"P-value:\", p)"
      ]
    },
    {
      "cell_type": "markdown",
      "source": [
        "###Result\n",
        "There is no significant relationship between education level and acceptance of advertising campaigns."
      ],
      "metadata": {
        "id": "JgJVdgxhX0Cw"
      },
      "id": "JgJVdgxhX0Cw"
    }
  ],
  "metadata": {
    "colab": {
      "provenance": [],
      "include_colab_link": true
    },
    "language_info": {
      "name": "python"
    },
    "kernelspec": {
      "name": "python3",
      "display_name": "Python 3"
    }
  },
  "nbformat": 4,
  "nbformat_minor": 5
}